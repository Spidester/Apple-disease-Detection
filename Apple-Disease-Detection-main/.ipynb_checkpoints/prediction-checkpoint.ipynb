{
 "cells": [
  {
   "cell_type": "code",
   "execution_count": 1,
   "metadata": {},
   "outputs": [
    {
     "name": "stdout",
     "output_type": "stream",
     "text": [
      "WARNING:tensorflow:From C:\\Users\\sambh\\anaconda3\\Lib\\site-packages\\keras\\src\\losses.py:2976: The name tf.losses.sparse_softmax_cross_entropy is deprecated. Please use tf.compat.v1.losses.sparse_softmax_cross_entropy instead.\n",
      "\n"
     ]
    }
   ],
   "source": [
    "import os\n",
    "import cv2\n",
    "import PIL\n",
    "import numpy as np\n",
    "import tensorflow as tf\n",
    "from tensorflow import keras\n",
    "import matplotlib.pyplot as plt\n",
    "from tensorflow.keras import layers, regularizers\n",
    "from tensorflow.keras.optimizers import Adam\n",
    "from tensorflow.keras.preprocessing import image\n",
    "from tensorflow.keras.preprocessing.image import ImageDataGenerator, img_to_array, load_img\n",
    "from tensorflow.keras.utils import plot_model\n",
    "from sklearn.metrics import confusion_matrix, classification_report\n",
    "from scikitplot.metrics import plot_confusion_matrix\n",
    "from tensorflow.keras.models import Sequential, load_model, model_from_json\n",
    "from tkinter import Tk, filedialog"
   ]
  },
  {
   "cell_type": "code",
   "execution_count": 2,
   "metadata": {},
   "outputs": [
    {
     "name": "stdout",
     "output_type": "stream",
     "text": [
      "WARNING:tensorflow:From C:\\Users\\sambh\\anaconda3\\Lib\\site-packages\\keras\\src\\backend.py:1398: The name tf.executing_eagerly_outside_functions is deprecated. Please use tf.compat.v1.executing_eagerly_outside_functions instead.\n",
      "\n",
      "WARNING:tensorflow:From C:\\Users\\sambh\\anaconda3\\Lib\\site-packages\\keras\\src\\layers\\pooling\\max_pooling2d.py:161: The name tf.nn.max_pool is deprecated. Please use tf.nn.max_pool2d instead.\n",
      "\n",
      "Found 9137 images belonging to 4 classes.\n"
     ]
    },
    {
     "ename": "NameError",
     "evalue": "name 'image_path' is not defined",
     "output_type": "error",
     "traceback": [
      "\u001b[1;31m---------------------------------------------------------------------------\u001b[0m",
      "\u001b[1;31mNameError\u001b[0m                                 Traceback (most recent call last)",
      "Cell \u001b[1;32mIn[2], line 92\u001b[0m\n\u001b[0;32m     83\u001b[0m train_gen \u001b[38;5;241m=\u001b[39m ImageDataGenerator(rescale\u001b[38;5;241m=\u001b[39m\u001b[38;5;241m1.\u001b[39m\u001b[38;5;241m/\u001b[39m\u001b[38;5;241m255\u001b[39m, validation_split\u001b[38;5;241m=\u001b[39m\u001b[38;5;241m0.3\u001b[39m)\n\u001b[0;32m     84\u001b[0m train_set \u001b[38;5;241m=\u001b[39m train_gen\u001b[38;5;241m.\u001b[39mflow_from_directory(\n\u001b[0;32m     85\u001b[0m     train_dir,\n\u001b[0;32m     86\u001b[0m     subset\u001b[38;5;241m=\u001b[39m\u001b[38;5;124m'\u001b[39m\u001b[38;5;124mtraining\u001b[39m\u001b[38;5;124m'\u001b[39m,\n\u001b[1;32m   (...)\u001b[0m\n\u001b[0;32m     89\u001b[0m     batch_size\u001b[38;5;241m=\u001b[39m\u001b[38;5;241m8\u001b[39m\n\u001b[0;32m     90\u001b[0m )\n\u001b[1;32m---> 92\u001b[0m predict_disease(model, train_set, IMG_SIZE, image_path)\n",
      "\u001b[1;31mNameError\u001b[0m: name 'image_path' is not defined"
     ]
    }
   ],
   "source": [
    "\n",
    "\n",
    "# Define a function to predict the disease and print the image with its class, reasons, features, and protection measures\n",
    "def predict_disease(model, train_set, IMG_SIZE, image_path):\n",
    "    \n",
    "    root = Tk()\n",
    "    root.withdraw()  # Hide the main tkinter window\n",
    "    image_path = filedialog.askopenfilename(title=\"Select an Image\", filetypes=[(\"Image Files\", \"*.jpg;*.png;*.jpeg\")])\n",
    "    \n",
    "    if not image_path:\n",
    "        print(\"No image selected.\")\n",
    "        return\n",
    "    \n",
    "    img = load_img(image_path, target_size=IMG_SIZE)\n",
    "    img_array = img_to_array(img)\n",
    "    img_array = np.expand_dims(img_array, axis=0)\n",
    "    img_array = img_array / 255.0  # Normalize the image\n",
    "\n",
    "    # Make the prediction\n",
    "    predictions = model.predict(img_array)\n",
    "    predicted_class_index = np.argmax(predictions[0])\n",
    "\n",
    "    # Get the class labels from train_set\n",
    "    class_labels = list(train_set.class_indices.keys())\n",
    "\n",
    "    # Define reasons and protection measures based on predicted classes\n",
    "    disease_reasons = {\n",
    "        'AppleBlackrot': 'Apple black rot is a fungal disease that affects apple trees. It causes black, rotting lesions on the fruit, leaves, and branches. The fungus survives in fallen leaves and mummified fruit during the winter and spreads through rain and wind. Infected fruits should be removed and destroyed to prevent further spread of the disease. Prune the affected branches during the dormant season, and apply fungicides during the growing season to protect new growth.',\n",
    "        'AppleHealthy': 'No disease detected. The apple tree is healthy.',\n",
    "        'AppleScab': 'Apple scab is a fungal disease that affects apple trees. It causes dark, scaly lesions on the leaves, fruit, and twigs. The fungus survives in infected fallen leaves and spreads through rain and wind. To prevent apple scab, it is important to maintain good sanitation by removing and destroying infected leaves and fruit. Fungicide sprays can also be used as a preventive measure. Choose apple cultivars that are resistant to scab.',\n",
    "        'Cedarapplerust': 'Cedar apple rust is a fungal disease that affects apple trees. It causes orange or rust-colored spots on the leaves, fruit, and twigs. The disease spreads through spores that are released by cedar trees during wet weather. To prevent cedar apple rust, it is important to remove nearby cedar trees, as they serve as a host for the disease. Fungicide sprays can also be used to control the disease. Plant apple varieties that are resistant to cedar apple rust.'\n",
    "    }\n",
    "\n",
    "    protection_measures = {\n",
    "        'AppleBlackrot': '1. Remove and destroy infected fruits, leaves, and branches.\\n2. Prune affected branches during the dormant season.\\n3. Apply fungicides during the growing season to protect new growth.\\n4. Improve air circulation around the tree by pruning and thinning branches.\\n5. Avoid overhead irrigation to reduce leaf wetness.',\n",
    "        'AppleHealthy': 'No protection measures required.',\n",
    "        'AppleScab': '1. Remove and destroy infected leaves and fruit.\\n2. Maintain good sanitation by removing fallen leaves.\\n3. Apply fungicides as a preventive measure.\\n4. Choose apple cultivars that are resistant to scab.',\n",
    "        'Cedarapplerust': '1. Remove nearby cedar trees, as they serve as a host for the disease.\\n2. Apply fungicides to control the disease.\\n3. Plant apple varieties that are resistant to cedar apple rust.\\n4. Maintain good sanitation by removing fallen leaves and fruit.'\n",
    "    }\n",
    "\n",
    "    # Get the predicted class and confidence\n",
    "    predicted_class = class_labels[predicted_class_index]\n",
    "    confidence = round(100 * np.max(predictions[0]), 2)\n",
    "\n",
    "    # Get the top 3 predicted classes and their corresponding probabilities\n",
    "    top_3_indices = np.argsort(predictions[0])[::-1][:3]\n",
    "    top_3_classes = [class_labels[i] for i in top_3_indices]\n",
    "    top_3_probabilities = predictions[0][top_3_indices]\n",
    "\n",
    "    # Print the prediction result\n",
    "    print(\"Predicted Class:\", predicted_class)\n",
    "    print(\"Confidence:\", confidence)\n",
    "    print(\"Top 3 Predictions:\")\n",
    "    for i in range(3):\n",
    "        print(f\"{top_3_classes[i]}: {round(100 * top_3_probabilities[i], 2)}%\")\n",
    "\n",
    "    # Print the reasons for the predicted disease\n",
    "    print(\"Reasons:\")\n",
    "    print(disease_reasons.get(predicted_class, \"Reasons not available.\"))\n",
    "\n",
    "    # Display the image\n",
    "    plt.imshow(img)\n",
    "    plt.axis('off')\n",
    "    plt.title(\"Predicted Class: \" + predicted_class + \"\\nConfidence: \" + str(confidence) + \"%\")\n",
    "    plt.show()\n",
    "\n",
    "    # Get the features that contributed to the prediction\n",
    "    intermediate_layer_model = keras.Model(inputs=model.input, outputs=model.layers[-2].output)\n",
    "    features = intermediate_layer_model.predict(img_array)\n",
    "\n",
    "    # Print the features\n",
    "    print(\"Features:\")\n",
    "    print(features)\n",
    "\n",
    "    # Print the protection measures for the predicted disease\n",
    "    print(\"Protection Measures:\")\n",
    "    print(protection_measures.get(predicted_class, \"Protection measures not available.\"))\n",
    "\n",
    "# Usage example\n",
    "model_path = 'Apple_Disease_Detection.h5'\n",
    "train_dir = 'train'\n",
    "IMG_SIZE = (256, 256)\n",
    "\n",
    "model = load_model(model_path)\n",
    "train_gen = ImageDataGenerator(rescale=1./255, validation_split=0.3)\n",
    "train_set = train_gen.flow_from_directory(\n",
    "    train_dir,\n",
    "    subset='training',\n",
    "    class_mode='categorical',\n",
    "    target_size=IMG_SIZE,\n",
    "    batch_size=8\n",
    ")\n",
    "\n",
    "predict_disease(model, train_set, IMG_SIZE, image_path)\n"
   ]
  },
  {
   "cell_type": "code",
   "execution_count": null,
   "metadata": {},
   "outputs": [],
   "source": []
  }
 ],
 "metadata": {
  "kernelspec": {
   "display_name": "Python 3 (ipykernel)",
   "language": "python",
   "name": "python3"
  },
  "language_info": {
   "codemirror_mode": {
    "name": "ipython",
    "version": 3
   },
   "file_extension": ".py",
   "mimetype": "text/x-python",
   "name": "python",
   "nbconvert_exporter": "python",
   "pygments_lexer": "ipython3",
   "version": "3.11.5"
  }
 },
 "nbformat": 4,
 "nbformat_minor": 2
}
